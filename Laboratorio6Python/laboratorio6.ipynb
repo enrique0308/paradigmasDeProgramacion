{
  "nbformat": 4,
  "nbformat_minor": 0,
  "metadata": {
    "colab": {
      "provenance": []
    },
    "kernelspec": {
      "name": "python3",
      "display_name": "Python 3"
    },
    "language_info": {
      "name": "python"
    }
  },
  "cells": [
    {
      "cell_type": "code",
      "execution_count": 2,
      "metadata": {
        "id": "pbw9efyfKHYL"
      },
      "outputs": [],
      "source": [
        "import math\n",
        "\n",
        "class HexagonoRegular:\n",
        "    def __init__(self, lado, color):\n",
        "        self.__lado = lado\n",
        "        self.__color = color\n",
        "\n",
        "    def __area(self):\n",
        "        return (3 * math.sqrt(3) / 2) * self.__lado * self.__lado\n",
        "\n",
        "    def __perimetro(self):\n",
        "        return 6 * self.__lado\n",
        "\n",
        "    def getArea(self):\n",
        "        return self.__area()\n",
        "\n",
        "    def getPerimetro(self):\n",
        "        return self.__perimetro()\n",
        "\n",
        "    def getColor(self):\n",
        "        return self.__color"
      ]
    },
    {
      "cell_type": "code",
      "source": [
        "hexagono1 = HexagonoRegular(3,\"Azul\")\n",
        "hexagono1.getArea()"
      ],
      "metadata": {
        "colab": {
          "base_uri": "https://localhost:8080/"
        },
        "id": "lSrtxQXhKMrF",
        "outputId": "14e7e130-d8b9-474d-f616-ba6e7f3dbc7c"
      },
      "execution_count": 5,
      "outputs": [
        {
          "output_type": "execute_result",
          "data": {
            "text/plain": [
              "23.382685902179844"
            ]
          },
          "metadata": {},
          "execution_count": 5
        }
      ]
    },
    {
      "cell_type": "code",
      "source": [
        "class Rombo:\n",
        "    def __init__(self, diagonalMayor, diagonalMenor, color):\n",
        "        self.__diagonalMayor = diagonalMayor\n",
        "        self.__diagonalMenor = diagonalMenor\n",
        "        self.__color = color\n",
        "\n",
        "    def __area(self):\n",
        "        return (self.__diagonalMayor * self.__diagonalMenor) / 2\n",
        "\n",
        "    def __perimetro(self):\n",
        "        return 4 * math.sqrt(((self.__diagonalMayor / 2) ** 2) + ((self.__diagonalMenor / 2) ** 2))\n",
        "\n",
        "    def getArea(self):\n",
        "        return self.__area()\n",
        "\n",
        "    def getPerimetro(self):\n",
        "        return self.__perimetro()\n",
        "\n",
        "    def getColor(self):\n",
        "        return self.__color"
      ],
      "metadata": {
        "id": "ek21Yha-LMPT"
      },
      "execution_count": 7,
      "outputs": []
    },
    {
      "cell_type": "code",
      "source": [
        "rombo1 = Rombo(2,3,\"Guinda\")\n",
        "rombo1.getArea()"
      ],
      "metadata": {
        "colab": {
          "base_uri": "https://localhost:8080/"
        },
        "id": "-oQ0HoeiLQ8d",
        "outputId": "f8f726ae-268a-4f63-ed54-5173727b65ce"
      },
      "execution_count": 17,
      "outputs": [
        {
          "output_type": "execute_result",
          "data": {
            "text/plain": [
              "3.0"
            ]
          },
          "metadata": {},
          "execution_count": 17
        }
      ]
    },
    {
      "cell_type": "code",
      "source": [
        "class Trapecio:\n",
        "    def __init__(self, baseMayor, baseMenor, altura, color):\n",
        "        self.__baseMayor = baseMayor\n",
        "        self.__baseMenor = baseMenor\n",
        "        self.__altura = altura\n",
        "        self.__color = color\n",
        "    def __area(self):\n",
        "        return ((self.__baseMayor + self.__baseMenor) / 2) * self.__altura\n",
        "\n",
        "    def __perimetro(self):\n",
        "        lado1 = (self.__baseMayor - self.__baseMenor) / 2\n",
        "        lado2 = math.sqrt(lado1**2 + self.__altura**2)\n",
        "        return self.__baseMayor + self.__baseMenor + 2 * lado2\n",
        "\n",
        "    def getArea(self):\n",
        "        return self.__area()\n",
        "\n",
        "    def getPerimetro(self):\n",
        "        return self.__perimetro()\n",
        "\n",
        "    def getColor(self):\n",
        "        return self.__color"
      ],
      "metadata": {
        "id": "9LQqZwxWLj04"
      },
      "execution_count": 13,
      "outputs": []
    },
    {
      "cell_type": "code",
      "source": [
        "trapecio1 = Trapecio(5,6,7,\"Blanco\")\n",
        "trapecio1.getArea()"
      ],
      "metadata": {
        "colab": {
          "base_uri": "https://localhost:8080/"
        },
        "id": "L5M4KkM8L0Il",
        "outputId": "9c750391-680d-4976-9eab-ec1b832f2947"
      },
      "execution_count": 14,
      "outputs": [
        {
          "output_type": "execute_result",
          "data": {
            "text/plain": [
              "38.5"
            ]
          },
          "metadata": {},
          "execution_count": 14
        }
      ]
    }
  ]
}